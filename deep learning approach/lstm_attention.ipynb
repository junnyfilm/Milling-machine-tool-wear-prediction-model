{
 "cells": [
  {
   "cell_type": "code",
   "execution_count": 1,
   "id": "881bcb97-5aa3-46a7-befe-e9c887093687",
   "metadata": {},
   "outputs": [],
   "source": [
    "import pandas as pd \n",
    "import matplotlib.pyplot as plt\n",
    "import numpy as np\n",
    "\n",
    "# load dataset and show the first run\n",
    "case1run1 = pd.read_csv('./mill_data/case1run1.csv')\n",
    "case1run2 = pd.read_csv('./mill_data/case1run2.csv')\n",
    "columns=['case', 'run', 'VB', 'time', 'doc','feed','material','smcAC', 'smcDC', 'vib_table', 'vib_spindle', 'AE_table', 'AE_spindle']\n",
    "case1run1.columns = columns\n",
    "case1run2.columns = columns"
   ]
  },
  {
   "cell_type": "code",
   "execution_count": 2,
   "id": "e3c5f263-0eaf-449e-891d-d5efd1471592",
   "metadata": {},
   "outputs": [
    {
     "name": "stderr",
     "output_type": "stream",
     "text": [
      "<frozen importlib._bootstrap>:228: RuntimeWarning: scipy._lib.messagestream.MessageStream size changed, may indicate binary incompatibility. Expected 56 from C header, got 64 from PyObject\n"
     ]
    }
   ],
   "source": [
    "import pandas as pd\n",
    "import numpy as np\n",
    "import dask.dataframe as dd\n",
    "import matplotlib.pyplot as plt\n",
    "import seaborn as sns\n",
    "from sklearn.preprocessing import MinMaxScaler\n",
    "from sklearn import preprocessing, metrics\n",
    "from ipywidgets import widgets, interactive\n",
    "import gc\n",
    "import joblib\n",
    "import glob\n",
    "import os\n",
    "import warnings\n",
    "from datetime import datetime, timedelta\n",
    "from typing import Union\n",
    "from tqdm.notebook import tqdm_notebook as tqdm\n",
    "from itertools import cycle\n",
    "import datetime as dt\n",
    "from torch.autograd import Variable\n",
    "import random\n",
    "from matplotlib.pyplot import figure\n",
    "import torch\n",
    "import torch.nn as nn\n",
    "from copy import deepcopy\n",
    "from torch.utils.data import Dataset\n",
    "from sklearn.metrics import mean_squared_error\n",
    "\n",
    "\n",
    "\n",
    "warnings.filterwarnings('ignore')\n",
    "pd.set_option('display.max_columns', 500)\n",
    "pd.set_option('display.max_rows', 500)\n",
    "\n",
    "from lstm_attention import lstmattention"
   ]
  },
  {
   "cell_type": "code",
   "execution_count": 3,
   "id": "4df89f98-b477-4b2a-91b7-5798afc1d2bb",
   "metadata": {},
   "outputs": [
    {
     "data": {
      "text/plain": [
       "nan"
      ]
     },
     "execution_count": 3,
     "metadata": {},
     "output_type": "execute_result"
    }
   ],
   "source": [
    "# load dataset and show the first run\n",
    "case1run1 = pd.read_csv('./mill_data/case1run1.csv')\n",
    "case1run2 = pd.read_csv('./mill_data/case1run2.csv')\n",
    "columns=['case', 'run', 'VB', 'time', 'doc','feed','material','smcAC', 'smcDC', 'vib_table', 'vib_spindle', 'AE_table', 'AE_spindle']\n",
    "case1run1.columns = columns\n",
    "case1run2.columns = columns"
   ]
  },
  {
   "cell_type": "code",
   "execution_count": null,
   "id": "d0dd4497-5781-45fc-9eff-d8d6abb55758",
   "metadata": {},
   "outputs": [],
   "source": []
  },
  {
   "cell_type": "code",
   "execution_count": 5,
   "id": "6a04b897-8de5-4d8c-b67d-6e566e12fa9c",
   "metadata": {},
   "outputs": [
    {
     "data": {
      "text/plain": [
       "True"
      ]
     },
     "execution_count": 5,
     "metadata": {},
     "output_type": "execute_result"
    }
   ],
   "source": [
    "str(case1run2['VB'][0])=='nan'"
   ]
  },
  {
   "cell_type": "code",
   "execution_count": 7,
   "id": "5ba8a844-455e-4c4f-a852-273f8ff20d0d",
   "metadata": {},
   "outputs": [],
   "source": [
    "def sliding_windows(data, seq_length):\n",
    "    x = []\n",
    "    for i in range(len(data)-seq_length-1):\n",
    "        _x = data[i:(i+seq_length)]\n",
    "        x.append(_x)\n",
    "\n",
    "    return np.array(x)"
   ]
  },
  {
   "cell_type": "code",
   "execution_count": 8,
   "id": "cdf0ad3e-b6a3-4f22-a46f-fecf80294099",
   "metadata": {},
   "outputs": [],
   "source": [
    "def labeling(data,seq_length,lab):\n",
    "    x = []\n",
    "    for i in range(len(data)-seq_length-1):\n",
    "        x.append(lab)\n",
    "\n",
    "    return np.array(x)"
   ]
  },
  {
   "cell_type": "code",
   "execution_count": 10,
   "id": "1020d037-0510-49ec-8da8-2ba9e56b4955",
   "metadata": {},
   "outputs": [],
   "source": [
    "path = './mill_data/'\n",
    "file_list = os.listdir(path)"
   ]
  },
  {
   "cell_type": "code",
   "execution_count": 33,
   "id": "4a8a29ad-d33c-47e1-9827-e3293d5ebda3",
   "metadata": {},
   "outputs": [],
   "source": [
    "def to_dataset(data,label):\n",
    "    smcAC=np.expand_dims(sliding_windows(data['smcAC'][3000:-3000],24),axis=2)\n",
    "    smcDC=np.expand_dims(sliding_windows(data['smcDC'][3000:-3000],24),axis=2)\n",
    "    vib_table=np.expand_dims(sliding_windows(data['vib_table'][3000:-3000],24),axis=2)\n",
    "    vib_spindle=np.expand_dims(sliding_windows(data['vib_spindle'][3000:-3000],24),axis=2)\n",
    "    AE_table=np.expand_dims(sliding_windows(data['AE_table'][3000:-3000],24),axis=2)\n",
    "    AE_spindle=np.expand_dims(sliding_windows(data['AE_spindle'][3000:-3000],24),axis=2)\n",
    "    xdata = np.concatenate((smcAC,smcDC,vib_table,vib_spindle,AE_table,AE_spindle),axis=2)\n",
    "    ydata = labeling(data[3000:-3000],24, label)\n",
    "    return xdata,ydata"
   ]
  },
  {
   "cell_type": "code",
   "execution_count": 41,
   "id": "c5232a94-c224-4a78-b68f-6e87278967a7",
   "metadata": {},
   "outputs": [],
   "source": [
    "def to_casedataset(data_list):\n",
    "    empty_x=np.zeros(((1, 24, 6)))\n",
    "    empty_y=np.zeros(((1)))\n",
    "\n",
    "    for i in data_list:\n",
    "        pdd=pd.read_csv('./mill_data/'+i)\n",
    "        pdd.columns = columns\n",
    "        lab=pdd['VB'][0]\n",
    "        if str(lab)!='nan':\n",
    "            x_,y_=to_dataset(pdd,lab)\n",
    "            empty_x=np.concatenate((empty_x,x_),axis=0)\n",
    "            empty_y=np.concatenate((empty_y,y_),axis=0)\n",
    "    \n",
    "    return empty_x[1:],empty_y[1:]"
   ]
  },
  {
   "cell_type": "code",
   "execution_count": 42,
   "id": "e8a97352-5ac8-458a-b0f0-411be374d1d6",
   "metadata": {},
   "outputs": [],
   "source": [
    "case1list=[file for file in file_list if file.startswith('case1run')]\n",
    "case9list=[file for file in file_list if file.startswith('case9run')]"
   ]
  },
  {
   "cell_type": "code",
   "execution_count": 43,
   "id": "65e3de64-a663-4f3e-9f86-105c185fb8c6",
   "metadata": {},
   "outputs": [],
   "source": [
    "c1_x,c1_y=to_casedataset(case1list)"
   ]
  },
  {
   "cell_type": "code",
   "execution_count": 44,
   "id": "72d02613-1cb9-457c-b513-9f525c37a5e8",
   "metadata": {},
   "outputs": [],
   "source": [
    "c9_x,c9_y=to_casedataset(case9list)"
   ]
  },
  {
   "cell_type": "code",
   "execution_count": 48,
   "id": "164bb1ca-5129-439f-a002-f379d5108efe",
   "metadata": {},
   "outputs": [],
   "source": [
    "class SequenceDataset(Dataset):\n",
    "    def __init__(self, x, y):\n",
    "        self.x=x\n",
    "        self.y=y\n",
    "        \n",
    "    def __len__(self):\n",
    "        return self.x.shape[0]\n",
    "\n",
    "    def __getitem__(self, i): \n",
    "        data=self.x[i]\n",
    "        label=self.y[i]\n",
    "\n",
    "        return data,label"
   ]
  },
  {
   "cell_type": "code",
   "execution_count": 49,
   "id": "7698ce77-5604-4f95-b304-3270a4b72874",
   "metadata": {},
   "outputs": [
    {
     "name": "stdout",
     "output_type": "stream",
     "text": [
      "train shape is: torch.Size([38662, 24, 6])\n",
      "train label shape is: torch.Size([38662])\n",
      "test shape is: torch.Size([26766, 24, 6])\n",
      "test label shape is: torch.Size([26766])\n"
     ]
    }
   ],
   "source": [
    "c1_x = Variable(torch.Tensor(np.array(c1_x)))\n",
    "c1_y = Variable(torch.Tensor(np.array(c1_y)))\n",
    "c9_x = Variable(torch.Tensor(np.array(c9_x)))\n",
    "c9_y = Variable(torch.Tensor(np.array(c9_y)))\n",
    "\n",
    "\n",
    "print(\"train shape is:\",c1_x.size())\n",
    "print(\"train label shape is:\",c1_y.size())\n",
    "print(\"test shape is:\",c9_x.size())\n",
    "print(\"test label shape is:\",c9_y.size())"
   ]
  },
  {
   "cell_type": "code",
   "execution_count": 50,
   "id": "6f2be31f-4be8-4e86-bdff-4f9dc90b1457",
   "metadata": {},
   "outputs": [],
   "source": [
    "c1_dataset=SequenceDataset(c1_x,c1_y)\n",
    "c9_dataset=SequenceDataset(c9_x,c9_y)"
   ]
  },
  {
   "cell_type": "code",
   "execution_count": 51,
   "id": "2d6d9cd8-6f69-4279-b6dd-f759e36da77e",
   "metadata": {},
   "outputs": [],
   "source": [
    "from torch.utils.data import DataLoader\n",
    "torch.manual_seed(99)\n",
    "\n",
    "train_loader = DataLoader(c1_dataset, batch_size=32, shuffle=True)\n",
    "test_loader = DataLoader(c9_dataset, batch_size=1, shuffle=False)\n"
   ]
  },
  {
   "cell_type": "code",
   "execution_count": 82,
   "id": "6ed2a4f5-6f89-43d3-a1f0-0867730a3208",
   "metadata": {},
   "outputs": [],
   "source": [
    "learning_rate = 5e-5\n",
    "N_HIDDENS = 200\n",
    "N_LAYERS = 3\n",
    "epoch = 50\n",
    "model = lstmattention()\n",
    "loss_function = nn.MSELoss()\n",
    "optimizer = torch.optim.Adam(model.parameters(), lr=learning_rate)"
   ]
  },
  {
   "cell_type": "code",
   "execution_count": 83,
   "id": "a61e2bca-6139-4521-bd18-cdd4b0398527",
   "metadata": {},
   "outputs": [],
   "source": [
    "from copy import deepcopy\n",
    "def train_model(data_loader, model, loss_function, optimizer):\n",
    "    num_batches = len(data_loader)\n",
    "    total_loss = 0\n",
    "    model.train()\n",
    "\n",
    "    for X, y in data_loader:\n",
    "        output = model(X)\n",
    "        loss = torch.sqrt(loss_function(output, y))\n",
    "\n",
    "        optimizer.zero_grad()\n",
    "        loss.backward()\n",
    "        optimizer.step()\n",
    "\n",
    "        total_loss += loss.item()\n",
    "\n",
    "    avg_loss = total_loss / num_batches\n",
    "    return avg_loss\n",
    "\n",
    "def test_model(data_loader, model, loss_function):\n",
    "\n",
    "    num_batches = len(data_loader)\n",
    "    total_loss = 0\n",
    "\n",
    "    model.eval()\n",
    "    with torch.no_grad():\n",
    "        for X, y in data_loader:\n",
    "            output = model(X)\n",
    "            total_loss += torch.sqrt(loss_function(output, y)).item()\n",
    "\n",
    "    avg_loss = total_loss / num_batches\n",
    "    return avg_loss"
   ]
  },
  {
   "cell_type": "code",
   "execution_count": 84,
   "id": "6424f056-013b-46bf-84d0-ef462e0cc06f",
   "metadata": {},
   "outputs": [
    {
     "name": "stdout",
     "output_type": "stream",
     "text": [
      "Untrained test\n",
      "0.6248393455250403\n"
     ]
    }
   ],
   "source": [
    "\n",
    "print(\"Untrained test\")\n",
    "print(test_model(test_loader, model, loss_function))\n",
    "best_fitness = -100000\n"
   ]
  },
  {
   "cell_type": "code",
   "execution_count": 85,
   "id": "c41f04c1-a1c2-4761-8111-4436a72ffb1a",
   "metadata": {},
   "outputs": [
    {
     "name": "stdout",
     "output_type": "stream",
     "text": [
      "run: 0\n"
     ]
    },
    {
     "ename": "RuntimeError",
     "evalue": "The size of tensor a (6) must match the size of tensor b (32) at non-singleton dimension 1",
     "output_type": "error",
     "traceback": [
      "\u001b[1;31m---------------------------------------------------------------------------\u001b[0m",
      "\u001b[1;31mRuntimeError\u001b[0m                              Traceback (most recent call last)",
      "Input \u001b[1;32mIn [85]\u001b[0m, in \u001b[0;36m<cell line: 2>\u001b[1;34m()\u001b[0m\n\u001b[0;32m      2\u001b[0m \u001b[38;5;28;01mfor\u001b[39;00m epoch \u001b[38;5;129;01min\u001b[39;00m \u001b[38;5;28mrange\u001b[39m(\u001b[38;5;241m30\u001b[39m):\n\u001b[0;32m      3\u001b[0m     \u001b[38;5;28mprint\u001b[39m(\u001b[38;5;124m\"\u001b[39m\u001b[38;5;124mrun:\u001b[39m\u001b[38;5;124m\"\u001b[39m, epoch)\n\u001b[1;32m----> 4\u001b[0m     train_loss \u001b[38;5;241m=\u001b[39m \u001b[43mtrain_model\u001b[49m\u001b[43m(\u001b[49m\u001b[43mtrain_loader\u001b[49m\u001b[43m,\u001b[49m\u001b[43m \u001b[49m\u001b[43mmodel\u001b[49m\u001b[43m,\u001b[49m\u001b[43m \u001b[49m\u001b[43mloss_function\u001b[49m\u001b[43m,\u001b[49m\u001b[43m \u001b[49m\u001b[43moptimizer\u001b[49m\u001b[38;5;241;43m=\u001b[39;49m\u001b[43moptimizer\u001b[49m\u001b[43m)\u001b[49m\n\u001b[0;32m      5\u001b[0m     test_loss \u001b[38;5;241m=\u001b[39m test_model(test_loader, model, loss_function)\n\u001b[0;32m      6\u001b[0m     \u001b[38;5;28mprint\u001b[39m(\u001b[38;5;124m\"\u001b[39m\u001b[38;5;124mtrain_loss:\u001b[39m\u001b[38;5;124m\"\u001b[39m,train_loss)\n",
      "Input \u001b[1;32mIn [83]\u001b[0m, in \u001b[0;36mtrain_model\u001b[1;34m(data_loader, model, loss_function, optimizer)\u001b[0m\n\u001b[0;32m      7\u001b[0m \u001b[38;5;28;01mfor\u001b[39;00m X, y \u001b[38;5;129;01min\u001b[39;00m data_loader:\n\u001b[0;32m      8\u001b[0m     output \u001b[38;5;241m=\u001b[39m model(X)\n\u001b[1;32m----> 9\u001b[0m     loss \u001b[38;5;241m=\u001b[39m torch\u001b[38;5;241m.\u001b[39msqrt(\u001b[43mloss_function\u001b[49m\u001b[43m(\u001b[49m\u001b[43moutput\u001b[49m\u001b[43m,\u001b[49m\u001b[43m \u001b[49m\u001b[43my\u001b[49m\u001b[43m)\u001b[49m)\n\u001b[0;32m     11\u001b[0m     optimizer\u001b[38;5;241m.\u001b[39mzero_grad()\n\u001b[0;32m     12\u001b[0m     loss\u001b[38;5;241m.\u001b[39mbackward()\n",
      "File \u001b[1;32m~\\.conda\\envs\\jun\\lib\\site-packages\\torch\\nn\\modules\\module.py:1130\u001b[0m, in \u001b[0;36mModule._call_impl\u001b[1;34m(self, *input, **kwargs)\u001b[0m\n\u001b[0;32m   1126\u001b[0m \u001b[38;5;66;03m# If we don't have any hooks, we want to skip the rest of the logic in\u001b[39;00m\n\u001b[0;32m   1127\u001b[0m \u001b[38;5;66;03m# this function, and just call forward.\u001b[39;00m\n\u001b[0;32m   1128\u001b[0m \u001b[38;5;28;01mif\u001b[39;00m \u001b[38;5;129;01mnot\u001b[39;00m (\u001b[38;5;28mself\u001b[39m\u001b[38;5;241m.\u001b[39m_backward_hooks \u001b[38;5;129;01mor\u001b[39;00m \u001b[38;5;28mself\u001b[39m\u001b[38;5;241m.\u001b[39m_forward_hooks \u001b[38;5;129;01mor\u001b[39;00m \u001b[38;5;28mself\u001b[39m\u001b[38;5;241m.\u001b[39m_forward_pre_hooks \u001b[38;5;129;01mor\u001b[39;00m _global_backward_hooks\n\u001b[0;32m   1129\u001b[0m         \u001b[38;5;129;01mor\u001b[39;00m _global_forward_hooks \u001b[38;5;129;01mor\u001b[39;00m _global_forward_pre_hooks):\n\u001b[1;32m-> 1130\u001b[0m     \u001b[38;5;28;01mreturn\u001b[39;00m forward_call(\u001b[38;5;241m*\u001b[39m\u001b[38;5;28minput\u001b[39m, \u001b[38;5;241m*\u001b[39m\u001b[38;5;241m*\u001b[39mkwargs)\n\u001b[0;32m   1131\u001b[0m \u001b[38;5;66;03m# Do not call functions when jit is used\u001b[39;00m\n\u001b[0;32m   1132\u001b[0m full_backward_hooks, non_full_backward_hooks \u001b[38;5;241m=\u001b[39m [], []\n",
      "File \u001b[1;32m~\\.conda\\envs\\jun\\lib\\site-packages\\torch\\nn\\modules\\loss.py:530\u001b[0m, in \u001b[0;36mMSELoss.forward\u001b[1;34m(self, input, target)\u001b[0m\n\u001b[0;32m    529\u001b[0m \u001b[38;5;28;01mdef\u001b[39;00m \u001b[38;5;21mforward\u001b[39m(\u001b[38;5;28mself\u001b[39m, \u001b[38;5;28minput\u001b[39m: Tensor, target: Tensor) \u001b[38;5;241m-\u001b[39m\u001b[38;5;241m>\u001b[39m Tensor:\n\u001b[1;32m--> 530\u001b[0m     \u001b[38;5;28;01mreturn\u001b[39;00m \u001b[43mF\u001b[49m\u001b[38;5;241;43m.\u001b[39;49m\u001b[43mmse_loss\u001b[49m\u001b[43m(\u001b[49m\u001b[38;5;28;43minput\u001b[39;49m\u001b[43m,\u001b[49m\u001b[43m \u001b[49m\u001b[43mtarget\u001b[49m\u001b[43m,\u001b[49m\u001b[43m \u001b[49m\u001b[43mreduction\u001b[49m\u001b[38;5;241;43m=\u001b[39;49m\u001b[38;5;28;43mself\u001b[39;49m\u001b[38;5;241;43m.\u001b[39;49m\u001b[43mreduction\u001b[49m\u001b[43m)\u001b[49m\n",
      "File \u001b[1;32m~\\.conda\\envs\\jun\\lib\\site-packages\\torch\\nn\\functional.py:3279\u001b[0m, in \u001b[0;36mmse_loss\u001b[1;34m(input, target, size_average, reduce, reduction)\u001b[0m\n\u001b[0;32m   3276\u001b[0m \u001b[38;5;28;01mif\u001b[39;00m size_average \u001b[38;5;129;01mis\u001b[39;00m \u001b[38;5;129;01mnot\u001b[39;00m \u001b[38;5;28;01mNone\u001b[39;00m \u001b[38;5;129;01mor\u001b[39;00m reduce \u001b[38;5;129;01mis\u001b[39;00m \u001b[38;5;129;01mnot\u001b[39;00m \u001b[38;5;28;01mNone\u001b[39;00m:\n\u001b[0;32m   3277\u001b[0m     reduction \u001b[38;5;241m=\u001b[39m _Reduction\u001b[38;5;241m.\u001b[39mlegacy_get_string(size_average, reduce)\n\u001b[1;32m-> 3279\u001b[0m expanded_input, expanded_target \u001b[38;5;241m=\u001b[39m \u001b[43mtorch\u001b[49m\u001b[38;5;241;43m.\u001b[39;49m\u001b[43mbroadcast_tensors\u001b[49m\u001b[43m(\u001b[49m\u001b[38;5;28;43minput\u001b[39;49m\u001b[43m,\u001b[49m\u001b[43m \u001b[49m\u001b[43mtarget\u001b[49m\u001b[43m)\u001b[49m\n\u001b[0;32m   3280\u001b[0m \u001b[38;5;28;01mreturn\u001b[39;00m torch\u001b[38;5;241m.\u001b[39m_C\u001b[38;5;241m.\u001b[39m_nn\u001b[38;5;241m.\u001b[39mmse_loss(expanded_input, expanded_target, _Reduction\u001b[38;5;241m.\u001b[39mget_enum(reduction))\n",
      "File \u001b[1;32m~\\.conda\\envs\\jun\\lib\\site-packages\\torch\\functional.py:73\u001b[0m, in \u001b[0;36mbroadcast_tensors\u001b[1;34m(*tensors)\u001b[0m\n\u001b[0;32m     71\u001b[0m \u001b[38;5;28;01mif\u001b[39;00m has_torch_function(tensors):\n\u001b[0;32m     72\u001b[0m     \u001b[38;5;28;01mreturn\u001b[39;00m handle_torch_function(broadcast_tensors, tensors, \u001b[38;5;241m*\u001b[39mtensors)\n\u001b[1;32m---> 73\u001b[0m \u001b[38;5;28;01mreturn\u001b[39;00m \u001b[43m_VF\u001b[49m\u001b[38;5;241;43m.\u001b[39;49m\u001b[43mbroadcast_tensors\u001b[49m\u001b[43m(\u001b[49m\u001b[43mtensors\u001b[49m\u001b[43m)\u001b[49m\n",
      "\u001b[1;31mRuntimeError\u001b[0m: The size of tensor a (6) must match the size of tensor b (32) at non-singleton dimension 1"
     ]
    },
    {
     "data": {
      "image/png": "[encoded data removed]",
      "text/plain": [
       "<Figure size 640x480 with 2 Axes>"
      ]
     },
     "metadata": {},
     "output_type": "display_data"
    }
   ],
   "source": [
    "fig, axs = plt.subplots(1, 2)\n",
    "for epoch in range(30):\n",
    "    print(\"run:\", epoch)\n",
    "    train_loss = train_model(train_loader, model, loss_function, optimizer=optimizer)\n",
    "    test_loss = test_model(test_loader, model, loss_function)\n",
    "    print(\"train_loss:\",train_loss)\n",
    "    print(\"test_loss:\",test_loss)\n",
    "    axs[0].scatter(epoch, train_loss, color='g')\n",
    "    axs[1].scatter(epoch, test_loss, color='r')\n",
    "    fitness = -test_loss\n",
    "    if fitness > best_fitness:\n",
    "        best_fitness = fitness\n",
    "        best_model = deepcopy(model)"
   ]
  },
  {
   "cell_type": "code",
   "execution_count": 70,
   "id": "165a5287-d1f6-4f14-a729-b1d2a95841cb",
   "metadata": {},
   "outputs": [],
   "source": [
    "def inference(data_loader, model):\n",
    "\n",
    "    model.eval()\n",
    "    with torch.no_grad():\n",
    "        for count, (X, y) in enumerate(data_loader):\n",
    "            output = model(X)\n",
    "            plt.scatter(count, output[0].numpy(), color='g')\n",
    "            plt.scatter(count, y[0].numpy(), color='r')\n",
    "    plt.show()"
   ]
  },
  {
   "cell_type": "code",
   "execution_count": 71,
   "id": "8424b5b7-6daa-4d3e-9ff5-3920fe1334af",
   "metadata": {},
   "outputs": [
    {
     "name": "stdout",
     "output_type": "stream",
     "text": [
      "Predictions on test set\n"
     ]
    }
   ],
   "source": [
    "test_loader = DataLoader(c9_dataset, batch_size=1, shuffle=False)\n",
    "print('Predictions on test set')"
   ]
  },
  {
   "cell_type": "code",
   "execution_count": 72,
   "id": "653b2320-0834-4fad-8229-0091b0178093",
   "metadata": {},
   "outputs": [
    {
     "name": "stderr",
     "output_type": "stream",
     "text": [
      "\n",
      "KeyboardInterrupt\n",
      "\n"
     ]
    },
    {
     "name": "stdout",
     "output_type": "stream",
     "text": [
      "Error in callback <function _draw_all_if_interactive at 0x000001F9CED57040> (for post_execute):\n"
     ]
    },
    {
     "name": "stderr",
     "output_type": "stream",
     "text": [
      "\n",
      "KeyboardInterrupt\n",
      "\n"
     ]
    },
    {
     "name": "stdout",
     "output_type": "stream",
     "text": [
      "Error in callback <function flush_figures at 0x000001F9D8BFEAF0> (for post_execute):\n"
     ]
    },
    {
     "name": "stderr",
     "output_type": "stream",
     "text": [
      "\n",
      "KeyboardInterrupt\n",
      "\n"
     ]
    }
   ],
   "source": [
    "inference(test_loader, best_model)\n",
    "print('Predictions on train set')"
   ]
  },
  {
   "cell_type": "code",
   "execution_count": null,
   "id": "636ffd1d-3be1-4ff2-9692-1b2b78ada8e3",
   "metadata": {},
   "outputs": [],
   "source": [
    "train_loader = DataLoader(c1_dataset, batch_size=1, shuffle=False)\n",
    "inference(train_loader, best_model)"
   ]
  },
  {
   "cell_type": "code",
   "execution_count": null,
   "id": "0581db92-06d1-4987-9cde-7c408a19198e",
   "metadata": {},
   "outputs": [],
   "source": []
  },
  {
   "cell_type": "code",
   "execution_count": 75,
   "id": "d5991a6d-ab21-43b9-ab6f-2590ee1847aa",
   "metadata": {},
   "outputs": [],
   "source": [
    "def test_model2(data_loader, model, loss_function):\n",
    "\n",
    "    num_batches = len(data_loader)\n",
    "    total_loss = 0\n",
    "\n",
    "    model.eval()\n",
    "    a=[]\n",
    "    b=[]\n",
    "    with torch.no_grad():\n",
    "        for X, y in data_loader:\n",
    "            output = model(X)\n",
    "            total_loss += torch.sqrt(loss_function(output, y)).item()\n",
    "            a.append(y)\n",
    "            b.append(output)\n",
    "\n",
    "    avg_loss = total_loss / num_batches\n",
    "    return avg_loss,a,b"
   ]
  },
  {
   "cell_type": "code",
   "execution_count": null,
   "id": "323f5209-c4da-4352-a737-ef1a0c04b6da",
   "metadata": {},
   "outputs": [],
   "source": []
  },
  {
   "cell_type": "code",
   "execution_count": 82,
   "id": "7b48048a-1581-4944-a580-b381588d6f96",
   "metadata": {},
   "outputs": [
    {
     "name": "stdout",
     "output_type": "stream",
     "text": [
      "Predictions on test set\n"
     ]
    }
   ],
   "source": [
    "test_loader = DataLoader(c9_dataset, batch_size=32, shuffle=False)\n",
    "print('Predictions on test set')"
   ]
  },
  {
   "cell_type": "code",
   "execution_count": 83,
   "id": "4c7e1208-0a62-45cd-9663-f018617002ff",
   "metadata": {},
   "outputs": [],
   "source": [
    "c,v,n=test_model2(test_loader, model, loss_function)"
   ]
  },
  {
   "cell_type": "code",
   "execution_count": 84,
   "id": "876dcd25-f616-4824-9776-bac63c43dc58",
   "metadata": {
    "tags": []
   },
   "outputs": [],
   "source": [
    "q,w=[],[]\n",
    "for i in range(len(v)):\n",
    "    q.append(sum(v[i])/len(v[i]))\n",
    "    w.append(sum(n[i])/len(n[i]))"
   ]
  },
  {
   "cell_type": "code",
   "execution_count": 86,
   "id": "a11a8a5d-8989-4bf8-9269-7a932f11f3cf",
   "metadata": {},
   "outputs": [
    {
     "data": {
      "text/plain": [
       "[<matplotlib.lines.Line2D at 0x1f9eab94730>]"
      ]
     },
     "execution_count": 86,
     "metadata": {},
     "output_type": "execute_result"
    },
    {
     "data": {
      "image/png": "[encoded data removed]",
      "text/plain": [
       "<Figure size 640x480 with 1 Axes>"
      ]
     },
     "metadata": {},
     "output_type": "display_data"
    }
   ],
   "source": [
    "plt.plot(q)\n",
    "plt.plot(w)"
   ]
  },
  {
   "cell_type": "code",
   "execution_count": 74,
   "id": "99ffe149-df23-4c44-af21-5f564779f0c8",
   "metadata": {},
   "outputs": [
    {
     "name": "stdout",
     "output_type": "stream",
     "text": [
      "Predictions on train set\n"
     ]
    }
   ],
   "source": [
    "train_loader = DataLoader(c1_dataset, batch_size=32, shuffle=False)\n",
    "print('Predictions on train set')"
   ]
  },
  {
   "cell_type": "code",
   "execution_count": 88,
   "id": "c8389191-c5e6-4622-b05f-2db947f4304c",
   "metadata": {},
   "outputs": [
    {
     "data": {
      "text/plain": [
       "[<matplotlib.lines.Line2D at 0x1f9ebdae0a0>]"
      ]
     },
     "execution_count": 88,
     "metadata": {},
     "output_type": "execute_result"
    },
    {
     "data": {
      "image/png": "[encoded data removed]",
      "text/plain": [
       "<Figure size 640x480 with 1 Axes>"
      ]
     },
     "metadata": {},
     "output_type": "display_data"
    }
   ],
   "source": [
    "c,v,n=test_model2(train_loader, model, loss_function)\n",
    "q,w=[],[]\n",
    "for i in range(len(v)):\n",
    "    q.append(sum(v[i])/len(v[i]))\n",
    "    w.append(sum(n[i])/len(n[i]))\n",
    "    \n",
    "plt.plot(q)\n",
    "plt.plot(w)"
   ]
  },
  {
   "cell_type": "code",
   "execution_count": null,
   "id": "ea38db52-44fd-47c8-a80c-91e3a0c093ef",
   "metadata": {},
   "outputs": [],
   "source": []
  }
 ],
 "metadata": {
  "kernelspec": {
   "display_name": "Python 3 (ipykernel)",
   "language": "python",
   "name": "python3"
  },
  "language_info": {
   "codemirror_mode": {
    "name": "ipython",
    "version": 3
   },
   "file_extension": ".py",
   "mimetype": "text/x-python",
   "name": "python",
   "nbconvert_exporter": "python",
   "pygments_lexer": "ipython3",
   "version": "3.9.13"
  }
 },
 "nbformat": 4,
 "nbformat_minor": 5
}
