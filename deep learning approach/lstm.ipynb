{
 "cells": [
  {
   "cell_type": "code",
   "execution_count": 38,
   "id": "881bcb97-5aa3-46a7-befe-e9c887093687",
   "metadata": {},
   "outputs": [],
   "source": [
    "import pandas as pd\n",
    "import numpy as np\n",
    "import dask.dataframe as dd\n",
    "import matplotlib.pyplot as plt\n",
    "import seaborn as sns\n",
    "from sklearn.preprocessing import MinMaxScaler\n",
    "from sklearn import preprocessing, metrics\n",
    "from ipywidgets import widgets, interactive\n",
    "import gc\n",
    "import joblib\n",
    "import glob\n",
    "import os\n",
    "import warnings\n",
    "from datetime import datetime, timedelta\n",
    "from typing import Union\n",
    "from tqdm.notebook import tqdm_notebook as tqdm\n",
    "from itertools import cycle\n",
    "import datetime as dt\n",
    "from torch.autograd import Variable\n",
    "import random\n",
    "from matplotlib.pyplot import figure\n",
    "import torch\n",
    "import torch.nn as nn\n",
    "from copy import deepcopy\n",
    "from torch.utils.data import Dataset\n",
    "from sklearn.metrics import mean_squared_error\n",
    "\n",
    "\n",
    "from lstm import ShallowRegressionLSTM\n",
    "\n",
    "\n",
    "warnings.filterwarnings('ignore')\n",
    "pd.set_option('display.max_columns', 500)\n",
    "pd.set_option('display.max_rows', 500)\n"
   ]
  },
  {
   "cell_type": "code",
   "execution_count": 39,
   "id": "e3c5f263-0eaf-449e-891d-d5efd1471592",
   "metadata": {},
   "outputs": [],
   "source": [
    "# load dataset and show the first run\n",
    "case1run1 = pd.read_csv('./mill_data/case1run1.csv')\n",
    "case1run2 = pd.read_csv('./mill_data/case1run2.csv')\n",
    "columns=['case', 'run', 'VB', 'time', 'doc','feed','material','smcAC', 'smcDC', 'vib_table', 'vib_spindle', 'AE_table', 'AE_spindle']\n",
    "case1run1.columns = columns\n",
    "case1run2.columns = columns"
   ]
  },
  {
   "cell_type": "code",
   "execution_count": 44,
   "id": "5ba8a844-455e-4c4f-a852-273f8ff20d0d",
   "metadata": {},
   "outputs": [],
   "source": [
    "def sliding_windows(data, seq_length):\n",
    "    x = []\n",
    "    for i in range(len(data)-seq_length-1):\n",
    "        _x = data[i:(i+seq_length)]\n",
    "        x.append(_x)\n",
    "\n",
    "    return np.array(x)"
   ]
  },
  {
   "cell_type": "code",
   "execution_count": 45,
   "id": "cdf0ad3e-b6a3-4f22-a46f-fecf80294099",
   "metadata": {},
   "outputs": [],
   "source": [
    "def labeling(data,seq_length,lab):\n",
    "    x = []\n",
    "    for i in range(len(data)-seq_length-1):\n",
    "        x.append(lab)\n",
    "\n",
    "    return np.array(x)"
   ]
  },
  {
   "cell_type": "code",
   "execution_count": 47,
   "id": "1020d037-0510-49ec-8da8-2ba9e56b4955",
   "metadata": {},
   "outputs": [],
   "source": [
    "path = './mill_data/'\n",
    "file_list = os.listdir(path)"
   ]
  },
  {
   "cell_type": "code",
   "execution_count": 51,
   "id": "4a8a29ad-d33c-47e1-9827-e3293d5ebda3",
   "metadata": {},
   "outputs": [],
   "source": [
    "def to_dataset(data,label):\n",
    "    smcAC=np.expand_dims(sliding_windows(data['smcAC'][3000:-3000],4),axis=2)\n",
    "    smcDC=np.expand_dims(sliding_windows(data['smcDC'][3000:-3000],4),axis=2)\n",
    "    vib_table=np.expand_dims(sliding_windows(data['vib_table'][3000:-3000],4),axis=2)\n",
    "    vib_spindle=np.expand_dims(sliding_windows(data['vib_spindle'][3000:-3000],4),axis=2)\n",
    "    AE_table=np.expand_dims(sliding_windows(data['AE_table'][3000:-3000],4),axis=2)\n",
    "    AE_spindle=np.expand_dims(sliding_windows(data['AE_spindle'][3000:-3000],4),axis=2)\n",
    "    xdata = np.concatenate((smcAC,smcDC,vib_table,vib_spindle,AE_table,AE_spindle),axis=2)\n",
    "    ydata = labeling(data[3000:-3000],4, label)\n",
    "    return xdata,ydata"
   ]
  },
  {
   "cell_type": "code",
   "execution_count": 52,
   "id": "c5232a94-c224-4a78-b68f-6e87278967a7",
   "metadata": {},
   "outputs": [],
   "source": [
    "def to_casedataset(data_list):\n",
    "    empty_x=np.zeros(((1, 4, 6)))\n",
    "    empty_y=np.zeros(((1)))\n",
    "\n",
    "    for i in data_list:\n",
    "        pdd=pd.read_csv('./mill_data/'+i)\n",
    "        pdd.columns = columns\n",
    "        lab=pdd['VB'][0]\n",
    "        if str(lab)!='nan':\n",
    "            x_,y_=to_dataset(pdd,lab)\n",
    "            empty_x=np.concatenate((empty_x,x_),axis=0)\n",
    "            empty_y=np.concatenate((empty_y,y_),axis=0)\n",
    "    \n",
    "    return empty_x[1:],empty_y[1:]"
   ]
  },
  {
   "cell_type": "code",
   "execution_count": 53,
   "id": "e8a97352-5ac8-458a-b0f0-411be374d1d6",
   "metadata": {},
   "outputs": [],
   "source": [
    "case1list=[file for file in file_list if file.startswith('case1run')]\n",
    "case9list=[file for file in file_list if file.startswith('case9run')]"
   ]
  },
  {
   "cell_type": "code",
   "execution_count": 54,
   "id": "65e3de64-a663-4f3e-9f86-105c185fb8c6",
   "metadata": {},
   "outputs": [],
   "source": [
    "c1_x,c1_y=to_casedataset(case1list)"
   ]
  },
  {
   "cell_type": "code",
   "execution_count": 55,
   "id": "72d02613-1cb9-457c-b513-9f525c37a5e8",
   "metadata": {},
   "outputs": [],
   "source": [
    "c9_x,c9_y=to_casedataset(case9list)"
   ]
  },
  {
   "cell_type": "code",
   "execution_count": 59,
   "id": "164bb1ca-5129-439f-a002-f379d5108efe",
   "metadata": {},
   "outputs": [],
   "source": [
    "class SequenceDataset(Dataset):\n",
    "    def __init__(self, x, y):\n",
    "        self.x=x\n",
    "        self.y=y\n",
    "        \n",
    "    def __len__(self):\n",
    "        return self.x.shape[0]\n",
    "\n",
    "    def __getitem__(self, i): \n",
    "        data=self.x[i]\n",
    "        label=self.y[i]\n",
    "\n",
    "        return data,label"
   ]
  },
  {
   "cell_type": "code",
   "execution_count": 60,
   "id": "7698ce77-5604-4f95-b304-3270a4b72874",
   "metadata": {},
   "outputs": [
    {
     "name": "stdout",
     "output_type": "stream",
     "text": [
      "train shape is: torch.Size([64922, 4, 6])\n",
      "train label shape is: torch.Size([64922])\n",
      "test shape is: torch.Size([44946, 4, 6])\n",
      "test label shape is: torch.Size([44946])\n"
     ]
    }
   ],
   "source": [
    "c1_x = Variable(torch.Tensor(np.array(c1_x)))\n",
    "c1_y = Variable(torch.Tensor(np.array(c1_y)))\n",
    "c9_x = Variable(torch.Tensor(np.array(c9_x)))\n",
    "c9_y = Variable(torch.Tensor(np.array(c9_y)))\n",
    "\n",
    "\n",
    "print(\"train shape is:\",c1_x.size())\n",
    "print(\"train label shape is:\",c1_y.size())\n",
    "print(\"test shape is:\",c9_x.size())\n",
    "print(\"test label shape is:\",c9_y.size())"
   ]
  },
  {
   "cell_type": "code",
   "execution_count": 61,
   "id": "6f2be31f-4be8-4e86-bdff-4f9dc90b1457",
   "metadata": {},
   "outputs": [],
   "source": [
    "c1_dataset=SequenceDataset(c1_x,c1_y)\n",
    "c9_dataset=SequenceDataset(c9_x,c9_y)"
   ]
  },
  {
   "cell_type": "code",
   "execution_count": 62,
   "id": "2d6d9cd8-6f69-4279-b6dd-f759e36da77e",
   "metadata": {},
   "outputs": [],
   "source": [
    "from torch.utils.data import DataLoader\n",
    "torch.manual_seed(99)\n",
    "\n",
    "train_loader = DataLoader(c1_dataset, batch_size=32, shuffle=True)\n",
    "test_loader = DataLoader(c9_dataset, batch_size=1, shuffle=False)\n"
   ]
  },
  {
   "cell_type": "code",
   "execution_count": 65,
   "id": "6ed2a4f5-6f89-43d3-a1f0-0867730a3208",
   "metadata": {},
   "outputs": [],
   "source": [
    "learning_rate = 5e-5\n",
    "num_hidden_units = 4\n",
    "epochs = 50\n",
    "model = ShallowRegressionLSTM(num_sensors=6, hidden_units=num_hidden_units)\n",
    "loss_function = nn.MSELoss()\n",
    "optimizer = torch.optim.Adam(model.parameters(), lr=learning_rate)"
   ]
  },
  {
   "cell_type": "code",
   "execution_count": 66,
   "id": "a61e2bca-6139-4521-bd18-cdd4b0398527",
   "metadata": {},
   "outputs": [],
   "source": [
    "def train_model(data_loader, model, loss_function, optimizer):\n",
    "    num_batches = len(data_loader)\n",
    "    total_loss = 0\n",
    "    model.train()\n",
    "\n",
    "    for X, y in data_loader:\n",
    "        output = model(X)\n",
    "        loss = torch.sqrt(loss_function(output, y))\n",
    "\n",
    "        optimizer.zero_grad()\n",
    "        loss.backward()\n",
    "        optimizer.step()\n",
    "\n",
    "        total_loss += loss.item()\n",
    "\n",
    "    avg_loss = total_loss / num_batches\n",
    "    return avg_loss\n",
    "\n",
    "def test_model(data_loader, model, loss_function):\n",
    "\n",
    "    num_batches = len(data_loader)\n",
    "    total_loss = 0\n",
    "\n",
    "    model.eval()\n",
    "    with torch.no_grad():\n",
    "        for X, y in data_loader:\n",
    "            output = model(X)\n",
    "            total_loss += torch.sqrt(loss_function(output, y)).item()\n",
    "\n",
    "    avg_loss = total_loss / num_batches\n",
    "    return avg_loss"
   ]
  },
  {
   "cell_type": "code",
   "execution_count": 67,
   "id": "6424f056-013b-46bf-84d0-ef462e0cc06f",
   "metadata": {},
   "outputs": [
    {
     "name": "stdout",
     "output_type": "stream",
     "text": [
      "Untrained test\n",
      "0.6749578940000022\n"
     ]
    }
   ],
   "source": [
    "\n",
    "print(\"Untrained test\")\n",
    "print(test_model(test_loader, model, loss_function))\n",
    "best_fitness = -100000\n"
   ]
  },
  {
   "cell_type": "code",
   "execution_count": 68,
   "id": "c41f04c1-a1c2-4761-8111-4436a72ffb1a",
   "metadata": {},
   "outputs": [
    {
     "name": "stdout",
     "output_type": "stream",
     "text": [
      "run: 0\n",
      "train_loss: 0.3610555927937932\n",
      "test_loss: 0.2112879937532317\n",
      "run: 1\n",
      "train_loss: 0.13552657062047335\n",
      "test_loss: 0.15579049356428626\n",
      "run: 2\n",
      "train_loss: 0.08837151997426626\n",
      "test_loss: 0.14603846178041602\n",
      "run: 3\n",
      "train_loss: 0.07582531625587638\n",
      "test_loss: 0.13334254347590574\n",
      "run: 4\n",
      "train_loss: 0.06986344028622309\n",
      "test_loss: 0.1260065471477724\n",
      "run: 5\n",
      "train_loss: 0.0659369989135337\n",
      "test_loss: 0.11998226099849776\n",
      "run: 6\n",
      "train_loss: 0.06272465065158371\n",
      "test_loss: 0.1137428207947318\n",
      "run: 7\n",
      "train_loss: 0.059960107029424385\n",
      "test_loss: 0.1099263052736435\n",
      "run: 8\n",
      "train_loss: 0.05759449487119663\n",
      "test_loss: 0.10692308457544335\n",
      "run: 9\n",
      "train_loss: 0.05560368019857978\n",
      "test_loss: 0.10367802700902827\n",
      "run: 10\n",
      "train_loss: 0.05396932578875609\n",
      "test_loss: 0.1017889063295607\n",
      "run: 11\n",
      "train_loss: 0.05262272582816749\n",
      "test_loss: 0.10059991068861218\n",
      "run: 12\n",
      "train_loss: 0.05157630789810181\n",
      "test_loss: 0.09975149813476357\n",
      "run: 13\n",
      "train_loss: 0.05074136501325945\n",
      "test_loss: 0.09914286773230292\n",
      "run: 14\n",
      "train_loss: 0.050077404915008596\n",
      "test_loss: 0.09863720208566248\n",
      "run: 15\n",
      "train_loss: 0.04960176618214368\n",
      "test_loss: 0.09806648023296903\n",
      "run: 16\n",
      "train_loss: 0.04922882720879465\n",
      "test_loss: 0.09805497078058668\n",
      "run: 17\n",
      "train_loss: 0.048955369325783406\n",
      "test_loss: 0.09804738497508493\n",
      "run: 18\n",
      "train_loss: 0.048718457326417844\n",
      "test_loss: 0.09824651170482025\n",
      "run: 19\n",
      "train_loss: 0.048538699940750316\n",
      "test_loss: 0.09903060889239305\n",
      "run: 20\n",
      "train_loss: 0.04838398230588454\n",
      "test_loss: 0.09799141365966284\n",
      "run: 21\n",
      "train_loss: 0.04825435582678737\n",
      "test_loss: 0.0987155239123841\n",
      "run: 22\n",
      "train_loss: 0.048112117907077354\n",
      "test_loss: 0.0993776447432467\n",
      "run: 23\n",
      "train_loss: 0.048015530684300985\n",
      "test_loss: 0.09846098168955697\n",
      "run: 24\n",
      "train_loss: 0.04788784024077516\n",
      "test_loss: 0.0983160199271828\n",
      "run: 25\n",
      "train_loss: 0.0478111138285499\n",
      "test_loss: 0.09980470534462622\n",
      "run: 26\n",
      "train_loss: 0.04773784023624679\n",
      "test_loss: 0.09989147006464791\n",
      "run: 27\n",
      "train_loss: 0.04763632787124402\n",
      "test_loss: 0.09971872783780591\n",
      "run: 28\n",
      "train_loss: 0.04754835203613126\n",
      "test_loss: 0.09935081735202278\n",
      "run: 29\n",
      "train_loss: 0.047492467071686605\n",
      "test_loss: 0.09921162688238293\n"
     ]
    },
    {
     "data": {
      "image/png": "[encoded data removed]",
      "text/plain": [
       "<Figure size 640x480 with 2 Axes>"
      ]
     },
     "metadata": {},
     "output_type": "display_data"
    }
   ],
   "source": [
    "fig, axs = plt.subplots(1, 2)\n",
    "for epoch in range(30):\n",
    "    print(\"run:\", epoch)\n",
    "    train_loss = train_model(train_loader, model, loss_function, optimizer=optimizer)\n",
    "    test_loss = test_model(test_loader, model, loss_function)\n",
    "    print(\"train_loss:\",train_loss)\n",
    "    print(\"test_loss:\",test_loss)\n",
    "    axs[0].scatter(epoch, train_loss, color='g')\n",
    "    axs[1].scatter(epoch, test_loss, color='r')\n",
    "    fitness = -test_loss\n",
    "    if fitness > best_fitness:\n",
    "        best_fitness = fitness\n",
    "        best_model = deepcopy(model)"
   ]
  },
  {
   "cell_type": "code",
   "execution_count": 69,
   "id": "2597883d-bc62-4ad0-befd-80270a7d9a54",
   "metadata": {},
   "outputs": [],
   "source": [
    "axs[0].set_yscale('log')\n",
    "axs[1].set_yscale('log')\n",
    "plt.show()\n",
    "plt.cla()\n",
    "plt.clf()\n",
    "plt.close()"
   ]
  },
  {
   "cell_type": "code",
   "execution_count": 75,
   "id": "d5991a6d-ab21-43b9-ab6f-2590ee1847aa",
   "metadata": {},
   "outputs": [],
   "source": [
    "def test_model2(data_loader, model, loss_function):\n",
    "\n",
    "    num_batches = len(data_loader)\n",
    "    total_loss = 0\n",
    "\n",
    "    model.eval()\n",
    "    a=[]\n",
    "    b=[]\n",
    "    with torch.no_grad():\n",
    "        for X, y in data_loader:\n",
    "            output = model(X)\n",
    "            total_loss += torch.sqrt(loss_function(output, y)).item()\n",
    "            a.append(y)\n",
    "            b.append(output)\n",
    "\n",
    "    avg_loss = total_loss / num_batches\n",
    "    return avg_loss,a,b"
   ]
  },
  {
   "cell_type": "code",
   "execution_count": 92,
   "id": "7b48048a-1581-4944-a580-b381588d6f96",
   "metadata": {},
   "outputs": [
    {
     "name": "stdout",
     "output_type": "stream",
     "text": [
      "Predictions on test set\n"
     ]
    }
   ],
   "source": [
    "test_loader = DataLoader(c9_dataset, batch_size=4994, shuffle=False)\n",
    "print('Predictions on test set')"
   ]
  },
  {
   "cell_type": "code",
   "execution_count": 93,
   "id": "4c7e1208-0a62-45cd-9663-f018617002ff",
   "metadata": {},
   "outputs": [],
   "source": [
    "c,v,n=test_model2(test_loader, model, loss_function)"
   ]
  },
  {
   "cell_type": "code",
   "execution_count": 94,
   "id": "876dcd25-f616-4824-9776-bac63c43dc58",
   "metadata": {
    "tags": []
   },
   "outputs": [],
   "source": [
    "q,w=[],[]\n",
    "for i in range(len(v)):\n",
    "    q.append(sum(v[i])/len(v[i]))\n",
    "    w.append(sum(n[i])/len(n[i]))"
   ]
  },
  {
   "cell_type": "code",
   "execution_count": 104,
   "id": "a11a8a5d-8989-4bf8-9269-7a932f11f3cf",
   "metadata": {},
   "outputs": [
    {
     "data": {
      "text/plain": [
       "[<matplotlib.lines.Line2D at 0x1f9df109520>]"
      ]
     },
     "execution_count": 104,
     "metadata": {},
     "output_type": "execute_result"
    },
    {
     "data": {
      "image/png": "[encoded data removed]",
      "text/plain": [
       "<Figure size 640x480 with 1 Axes>"
      ]
     },
     "metadata": {},
     "output_type": "display_data"
    }
   ],
   "source": [
    "plt.plot(q, 'bo-',color='r')\n",
    "plt.plot(w, 'bo-',color='b')"
   ]
  },
  {
   "cell_type": "code",
   "execution_count": 107,
   "id": "99ffe149-df23-4c44-af21-5f564779f0c8",
   "metadata": {},
   "outputs": [
    {
     "name": "stdout",
     "output_type": "stream",
     "text": [
      "Predictions on train set\n"
     ]
    }
   ],
   "source": [
    "train_loader = DataLoader(c1_dataset, batch_size=int(len(c1_dataset)/13), shuffle=False)\n",
    "print('Predictions on train set')"
   ]
  },
  {
   "cell_type": "code",
   "execution_count": 109,
   "id": "c8389191-c5e6-4622-b05f-2db947f4304c",
   "metadata": {},
   "outputs": [
    {
     "data": {
      "text/plain": [
       "[<matplotlib.lines.Line2D at 0x1f9defe8160>]"
      ]
     },
     "execution_count": 109,
     "metadata": {},
     "output_type": "execute_result"
    },
    {
     "data": {
      "image/png": "[encoded data removed]",
      "text/plain": [
       "<Figure size 640x480 with 1 Axes>"
      ]
     },
     "metadata": {},
     "output_type": "display_data"
    }
   ],
   "source": [
    "c,v,n=test_model2(train_loader, model, loss_function)\n",
    "q,w=[],[]\n",
    "for i in range(len(v)):\n",
    "    q.append(sum(v[i])/len(v[i]))\n",
    "    w.append(sum(n[i])/len(n[i]))\n",
    "    \n",
    "plt.plot(q, 'bo-',color='r')\n",
    "plt.plot(w, 'bo-',color='b')"
   ]
  },
  {
   "cell_type": "code",
   "execution_count": null,
   "id": "ea38db52-44fd-47c8-a80c-91e3a0c093ef",
   "metadata": {},
   "outputs": [],
   "source": []
  }
 ],
 "metadata": {
  "kernelspec": {
   "display_name": "Python 3 (ipykernel)",
   "language": "python",
   "name": "python3"
  },
  "language_info": {
   "codemirror_mode": {
    "name": "ipython",
    "version": 3
   },
   "file_extension": ".py",
   "mimetype": "text/x-python",
   "name": "python",
   "nbconvert_exporter": "python",
   "pygments_lexer": "ipython3",
   "version": "3.9.13"
  }
 },
 "nbformat": 4,
 "nbformat_minor": 5
}
